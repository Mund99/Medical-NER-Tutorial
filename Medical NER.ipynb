{
 "cells": [
  {
   "cell_type": "markdown",
   "metadata": {
    "id": "OOJFkMPT1JMd"
   },
   "source": [
    "**Tutorial Example of Building a Custom NER Model with Spacy**\n",
    "- https://blog.futuresmart.ai/building-a-custom-ner-model-with-spacy-a-step-by-step-guide\n",
    "- Dataset is from https://www.kaggle.com/datasets/finalepoch/medical-ner\n",
    "- It is to recognize tag of diseases, pathogens and medications."
   ]
  },
  {
   "cell_type": "markdown",
   "metadata": {
    "id": "_EG8E1bWqlU_"
   },
   "source": [
    "# Install Packages & Import Libraries"
   ]
  },
  {
   "cell_type": "code",
   "execution_count": 2,
   "metadata": {
    "colab": {
     "base_uri": "https://localhost:8080/"
    },
    "executionInfo": {
     "elapsed": 49899,
     "status": "ok",
     "timestamp": 1717317719318,
     "user": {
      "displayName": "Edmund Lee",
      "userId": "17442049349520482269"
     },
     "user_tz": -480
    },
    "id": "B5wOKYjErELr",
    "outputId": "bbf2825f-6bc9-4066-8b70-8d0f4ba1f2c8"
   },
   "outputs": [
    {
     "name": "stdout",
     "output_type": "stream",
     "text": [
      "\u001b[38;5;2m✔ Download and installation successful\u001b[0m\n",
      "You can now load the package via spacy.load('en_core_web_lg')\n"
     ]
    }
   ],
   "source": [
    "!pip install spacy --quiet\n",
    "\n",
    "# Download the large English model for spaCy.\n",
    "# The '--quiet' flag is used to suppress the download messages for a cleaner output.\n",
    "!python -m spacy download en_core_web_lg --quiet"
   ]
  },
  {
   "cell_type": "code",
   "execution_count": 3,
   "metadata": {
    "id": "NJHhlWd1bBhn"
   },
   "outputs": [],
   "source": [
    "import spacy\n",
    "from spacy import displacy\n",
    "from spacy.tokens import DocBin\n",
    "from spacy.util import filter_spans\n",
    "\n",
    "from tqdm import tqdm"
   ]
  },
  {
   "cell_type": "markdown",
   "metadata": {
    "id": "tUiLyS9hrM7b"
   },
   "source": [
    "# Familiarizing Named Entties with Spacy"
   ]
  },
  {
   "cell_type": "code",
   "execution_count": 4,
   "metadata": {
    "id": "VkWkYVGLrHdY"
   },
   "outputs": [],
   "source": [
    "# Load the large English model into the 'nlp' variable.\n",
    "# This model includes more features and higher accuracy compared to smaller models.\n",
    "nlp = spacy.load(\"en_core_web_lg\")"
   ]
  },
  {
   "cell_type": "code",
   "execution_count": 5,
   "metadata": {
    "colab": {
     "base_uri": "https://localhost:8080/"
    },
    "executionInfo": {
     "elapsed": 323,
     "status": "ok",
     "timestamp": 1717317765688,
     "user": {
      "displayName": "Edmund Lee",
      "userId": "17442049349520482269"
     },
     "user_tz": -480
    },
    "id": "Wk0_eYAianR4",
    "outputId": "03f2c605-f14c-4eb0-ed16-b4068209434f"
   },
   "outputs": [
    {
     "name": "stdout",
     "output_type": "stream",
     "text": [
      "Entity: Apple, Start: 0, End: 5, Label: ORG, Explanation: Companies, agencies, institutions, etc.\n",
      "Entity: U.K., Start: 27, End: 31, Label: GPE, Explanation: Countries, cities, states\n",
      "Entity: $1 billion, Start: 44, End: 54, Label: MONEY, Explanation: Monetary values, including unit\n"
     ]
    }
   ],
   "source": [
    "# Define the text to be processed\n",
    "text = \"Apple is looking at buying U.K. startup for $1 billion\"\n",
    "\n",
    "# Process the text using the loaded spaCy model\n",
    "doc = nlp(text)\n",
    "\n",
    "# Extract and print entities with their explanations\n",
    "for ent in doc.ents:\n",
    "    label = ent.label_\n",
    "    explanation = spacy.explain(label)\n",
    "    print(f\"Entity: {ent.text}, Start: {ent.start_char}, End: {ent.end_char}, Label: {label}, Explanation: {explanation}\")"
   ]
  },
  {
   "cell_type": "code",
   "execution_count": 6,
   "metadata": {
    "id": "4yTi7lpohByV"
   },
   "outputs": [
    {
     "data": {
      "text/html": [
       "<span class=\"tex2jax_ignore\"><div class=\"entities\" style=\"line-height: 2.5; direction: ltr\">\n",
       "<mark class=\"entity\" style=\"background: #7aecec; padding: 0.45em 0.6em; margin: 0 0.25em; line-height: 1; border-radius: 0.35em;\">\n",
       "    Apple\n",
       "    <span style=\"font-size: 0.8em; font-weight: bold; line-height: 1; border-radius: 0.35em; vertical-align: middle; margin-left: 0.5rem\">ORG</span>\n",
       "</mark>\n",
       " is looking at buying \n",
       "<mark class=\"entity\" style=\"background: #feca74; padding: 0.45em 0.6em; margin: 0 0.25em; line-height: 1; border-radius: 0.35em;\">\n",
       "    U.K.\n",
       "    <span style=\"font-size: 0.8em; font-weight: bold; line-height: 1; border-radius: 0.35em; vertical-align: middle; margin-left: 0.5rem\">GPE</span>\n",
       "</mark>\n",
       " startup for \n",
       "<mark class=\"entity\" style=\"background: #e4e7d2; padding: 0.45em 0.6em; margin: 0 0.25em; line-height: 1; border-radius: 0.35em;\">\n",
       "    $1 billion\n",
       "    <span style=\"font-size: 0.8em; font-weight: bold; line-height: 1; border-radius: 0.35em; vertical-align: middle; margin-left: 0.5rem\">MONEY</span>\n",
       "</mark>\n",
       "</div></span>"
      ],
      "text/plain": [
       "<IPython.core.display.HTML object>"
      ]
     },
     "metadata": {},
     "output_type": "display_data"
    }
   ],
   "source": [
    "# Visualize the named entities using displacy\n",
    "displacy.render(doc, style=\"ent\", jupyter=True)"
   ]
  },
  {
   "cell_type": "code",
   "execution_count": 7,
   "metadata": {
    "id": "rMPmwquvbSf9"
   },
   "outputs": [
    {
     "data": {
      "text/html": [
       "<span class=\"tex2jax_ignore\"><div class=\"entities\" style=\"line-height: 2.5; direction: ltr\">\n",
       "<mark class=\"entity\" style=\"background: #7aecec; padding: 0.45em 0.6em; margin: 0 0.25em; line-height: 1; border-radius: 0.35em;\">\n",
       "    Apple\n",
       "    <span style=\"font-size: 0.8em; font-weight: bold; line-height: 1; border-radius: 0.35em; vertical-align: middle; margin-left: 0.5rem\">ORG</span>\n",
       "</mark>\n",
       " is looking at buying \n",
       "<mark class=\"entity\" style=\"background: #feca74; padding: 0.45em 0.6em; margin: 0 0.25em; line-height: 1; border-radius: 0.35em;\">\n",
       "    U.K.\n",
       "    <span style=\"font-size: 0.8em; font-weight: bold; line-height: 1; border-radius: 0.35em; vertical-align: middle; margin-left: 0.5rem\">GPE</span>\n",
       "</mark>\n",
       " startup for \n",
       "<mark class=\"entity\" style=\"background: #e4e7d2; padding: 0.45em 0.6em; margin: 0 0.25em; line-height: 1; border-radius: 0.35em;\">\n",
       "    $1 billion\n",
       "    <span style=\"font-size: 0.8em; font-weight: bold; line-height: 1; border-radius: 0.35em; vertical-align: middle; margin-left: 0.5rem\">MONEY</span>\n",
       "</mark>\n",
       ". \n",
       "<mark class=\"entity\" style=\"background: #7aecec; padding: 0.45em 0.6em; margin: 0 0.25em; line-height: 1; border-radius: 0.35em;\">\n",
       "    Amazon\n",
       "    <span style=\"font-size: 0.8em; font-weight: bold; line-height: 1; border-radius: 0.35em; vertical-align: middle; margin-left: 0.5rem\">ORG</span>\n",
       "</mark>\n",
       " is also considering a similar move, investing in a French AI company. Meanwhile, \n",
       "<mark class=\"entity\" style=\"background: #7aecec; padding: 0.45em 0.6em; margin: 0 0.25em; line-height: 1; border-radius: 0.35em;\">\n",
       "    Microsoft\n",
       "    <span style=\"font-size: 0.8em; font-weight: bold; line-height: 1; border-radius: 0.35em; vertical-align: middle; margin-left: 0.5rem\">ORG</span>\n",
       "</mark>\n",
       " is expanding its operations in \n",
       "<mark class=\"entity\" style=\"background: #feca74; padding: 0.45em 0.6em; margin: 0 0.25em; line-height: 1; border-radius: 0.35em;\">\n",
       "    Canada\n",
       "    <span style=\"font-size: 0.8em; font-weight: bold; line-height: 1; border-radius: 0.35em; vertical-align: middle; margin-left: 0.5rem\">GPE</span>\n",
       "</mark>\n",
       ".</div></span>"
      ],
      "text/plain": [
       "<IPython.core.display.HTML object>"
      ]
     },
     "metadata": {},
     "output_type": "display_data"
    }
   ],
   "source": [
    "# Define a longer text to be processed\n",
    "long_text = (\"Apple is looking at buying U.K. startup for $1 billion. \"\n",
    "             \"Amazon is also considering a similar move, investing in a French AI company. \"\n",
    "             \"Meanwhile, Microsoft is expanding its operations in Canada.\")\n",
    "\n",
    "doc = nlp(long_text)\n",
    "displacy.render(doc, style=\"ent\", options={\"ents\": [\"ORG\", \"GPE\", \"MONEY\"]})"
   ]
  },
  {
   "cell_type": "code",
   "execution_count": null,
   "metadata": {
    "id": "BGnUjFJybTog"
   },
   "outputs": [],
   "source": [
    "# displacy.serve(doc, style=\"ent\", options={\"ents\": [\"ORG\", \"GPE\", \"MONEY\"]}, auto_select_port=True)"
   ]
  },
  {
   "cell_type": "markdown",
   "metadata": {
    "id": "molpjJQhIako"
   },
   "source": [
    "# Load the annotated medical data\n"
   ]
  },
  {
   "cell_type": "code",
   "execution_count": 8,
   "metadata": {
    "executionInfo": {
     "elapsed": 3,
     "status": "ok",
     "timestamp": 1717335484679,
     "user": {
      "displayName": "Edmund Lee",
      "userId": "17442049349520482269"
     },
     "user_tz": -480
    },
    "id": "Ims5arTCIeR7"
   },
   "outputs": [],
   "source": [
    "import json\n",
    "corona_filepath = 'Corona2.json'\n",
    "\n",
    "with open(corona_filepath, 'r') as f:\n",
    "    data = json.load(f)"
   ]
  },
  {
   "cell_type": "code",
   "execution_count": 9,
   "metadata": {
    "colab": {
     "base_uri": "https://localhost:8080/"
    },
    "executionInfo": {
     "elapsed": 415,
     "status": "ok",
     "timestamp": 1717335606642,
     "user": {
      "displayName": "Edmund Lee",
      "userId": "17442049349520482269"
     },
     "user_tz": -480
    },
    "id": "owJ48xRHLhVb",
    "outputId": "9fbb0767-a7b8-43a1-dc3a-4415b6aecae9"
   },
   "outputs": [
    {
     "data": {
      "text/plain": [
       "(\"While bismuth compounds (Pepto-Bismol) decreased the number of bowel movements in those with travelers' diarrhea, they do not decrease the length of illness.[91] Anti-motility agents like loperamide are also effective at reducing the number of stools but not the duration of disease.[8] These agents should be used only if bloody diarrhea is not present.[92]\\n\\nDiosmectite, a natural aluminomagnesium silicate clay, is effective in alleviating symptoms of acute diarrhea in children,[93] and also has some effects in chronic functional diarrhea, radiation-induced diarrhea, and chemotherapy-induced diarrhea.[45] Another absorbent agent used for the treatment of mild diarrhea is kaopectate.\\n\\nRacecadotril an antisecretory medication may be used to treat diarrhea in children and adults.[86] It has better tolerability than loperamide, as it causes less constipation and flatulence.[94]\",\n",
       " {'id': '0825a1bf-6a6e-4fa2-be77-8d104701eaed',\n",
       "  'tag_id': 'c06bd022-6ded-44a5-8d90-f17685bb85a1',\n",
       "  'end': 371,\n",
       "  'start': 360,\n",
       "  'example_id': '18c2f619-f102-452f-ab81-d26f7e283ffe',\n",
       "  'tag_name': 'Medicine',\n",
       "  'value': 'Diosmectite',\n",
       "  'correct': None,\n",
       "  'human_annotations': [{'timestamp': '2020-03-21T00:24:32.098000Z',\n",
       "    'annotator_id': 1,\n",
       "    'tagged_token_id': '0825a1bf-6a6e-4fa2-be77-8d104701eaed',\n",
       "    'name': 'Ashpat123',\n",
       "    'reason': 'exploration'}],\n",
       "  'model_annotations': []})"
      ]
     },
     "execution_count": 9,
     "metadata": {},
     "output_type": "execute_result"
    }
   ],
   "source": [
    "data['examples'][0]['content'], data['examples'][0]['annotations'][0]"
   ]
  },
  {
   "cell_type": "code",
   "execution_count": 10,
   "metadata": {
    "executionInfo": {
     "elapsed": 573,
     "status": "ok",
     "timestamp": 1717338335524,
     "user": {
      "displayName": "Edmund Lee",
      "userId": "17442049349520482269"
     },
     "user_tz": -480
    },
    "id": "NLY7r_cOI1Xb"
   },
   "outputs": [],
   "source": [
    "training_data = []\n",
    "\n",
    "for example in data['examples']:\n",
    "    temp_dict = {}\n",
    "    temp_dict['text'] = example['content']\n",
    "    temp_dict['entities'] = []\n",
    "    for annotation in example['annotations']:\n",
    "        start = annotation['start']\n",
    "        end = annotation['end']\n",
    "        label = annotation['tag_name'].upper()  # Convert label to uppercase\n",
    "        temp_dict['entities'].append((start, end, label))\n",
    "    training_data.append(temp_dict)"
   ]
  },
  {
   "cell_type": "code",
   "execution_count": 11,
   "metadata": {
    "colab": {
     "base_uri": "https://localhost:8080/"
    },
    "executionInfo": {
     "elapsed": 7,
     "status": "ok",
     "timestamp": 1717338344637,
     "user": {
      "displayName": "Edmund Lee",
      "userId": "17442049349520482269"
     },
     "user_tz": -480
    },
    "id": "mJHBxMPmV215",
    "outputId": "7a6400fa-b8b6-4d8a-e08e-db904d3581b0",
    "scrolled": true
   },
   "outputs": [
    {
     "data": {
      "text/plain": [
       "[{'text': \"While bismuth compounds (Pepto-Bismol) decreased the number of bowel movements in those with travelers' diarrhea, they do not decrease the length of illness.[91] Anti-motility agents like loperamide are also effective at reducing the number of stools but not the duration of disease.[8] These agents should be used only if bloody diarrhea is not present.[92]\\n\\nDiosmectite, a natural aluminomagnesium silicate clay, is effective in alleviating symptoms of acute diarrhea in children,[93] and also has some effects in chronic functional diarrhea, radiation-induced diarrhea, and chemotherapy-induced diarrhea.[45] Another absorbent agent used for the treatment of mild diarrhea is kaopectate.\\n\\nRacecadotril an antisecretory medication may be used to treat diarrhea in children and adults.[86] It has better tolerability than loperamide, as it causes less constipation and flatulence.[94]\",\n",
       "  'entities': [(360, 371, 'MEDICINE'),\n",
       "   (383, 408, 'MEDICINE'),\n",
       "   (104, 112, 'MEDICALCONDITION'),\n",
       "   (679, 689, 'MEDICINE'),\n",
       "   (6, 23, 'MEDICINE'),\n",
       "   (25, 37, 'MEDICINE'),\n",
       "   (461, 470, 'MEDICALCONDITION'),\n",
       "   (577, 589, 'MEDICINE'),\n",
       "   (853, 865, 'MEDICALCONDITION'),\n",
       "   (188, 198, 'MEDICINE'),\n",
       "   (754, 762, 'MEDICALCONDITION'),\n",
       "   (870, 880, 'MEDICALCONDITION'),\n",
       "   (823, 833, 'MEDICINE'),\n",
       "   (852, 853, 'MEDICALCONDITION'),\n",
       "   (461, 469, 'MEDICALCONDITION'),\n",
       "   (535, 543, 'MEDICALCONDITION'),\n",
       "   (692, 704, 'MEDICINE'),\n",
       "   (563, 571, 'MEDICALCONDITION')]},\n",
       " {'text': 'Diarrhea, also spelled diarrhoea, is the condition of having at least three loose, liquid, or watery bowel movements each day.[2] It often lasts for a few days and can result in dehydration due to fluid loss.[2] Signs of dehydration often begin with loss of the normal stretchiness of the skin and irritable behaviour.[2] This can progress to decreased urination, loss of skin color, a fast heart rate, and a decrease in responsiveness as it becomes more severe.[2] Loose but non-watery stools in babies who are exclusively breastfed, however, are normal.[2]',\n",
       "  'entities': [(364, 382, 'MEDICALCONDITION'),\n",
       "   (0, 8, 'MEDICALCONDITION'),\n",
       "   (94, 116, 'MEDICALCONDITION'),\n",
       "   (178, 189, 'MEDICALCONDITION'),\n",
       "   (221, 232, 'MEDICALCONDITION'),\n",
       "   (23, 32, 'MEDICALCONDITION'),\n",
       "   (409, 435, 'MEDICALCONDITION'),\n",
       "   (386, 401, 'MEDICALCONDITION')]},\n",
       " {'text': 'Antiretroviral therapy (ART) is recommended for all HIV-infected individuals to reduce the risk of disease progression.\\nART also is recommended for HIV-infected individuals for the prevention of transmission of HIV.\\nPatients starting ART should be willing and able to commit to treatment and understand the benefits and risks of therapy and the importance of adherence. Patients may choose to postpone therapy, and providers, on a case-by-case basis, may elect to defer therapy on the basis of clinical and/or psychosocial factors.',\n",
       "  'entities': [(0, 22, 'MEDICINE'),\n",
       "   (24, 27, 'MEDICINE'),\n",
       "   (120, 123, 'MEDICINE'),\n",
       "   (211, 214, 'PATHOGEN'),\n",
       "   (52, 55, 'PATHOGEN'),\n",
       "   (234, 237, 'MEDICINE'),\n",
       "   (148, 151, 'PATHOGEN')]},\n",
       " {'text': 'The following drugs are considered as DMARDs: methotrexate, hydroxychloroquine, sulfasalazine, leflunomide, TNF-alpha inhibitors (certolizumab, infliximab and etanercept), abatacept, and anakinra. Rituximab and tocilizumab are monoclonal antibodies and are also DMARDs.[8] Use of tocilizumab is associated with a risk of increased cholesterol levels.[87]\\n\\nHydroxychloroquine, apart from its low toxicity profile, is considered effective in the moderate RA treatment.[88]\\n\\nThe most commonly used agent is methotrexate with other frequently used agents including sulfasalazine and leflunomide.[8] Leflunomide is effective when used from 6–12 months, with similar effectiveness to methotrexate when used for 2 years.[89] Sulfasalazine also appears to be most effective in the short-term treatment of rheumatoid arthritis.[90] Sodium aurothiomalate (gold) and cyclosporin are less commonly used due to more common adverse effects.[8] However, cyclosporin was found to be effective in the progressive RA when used up to one year.[91] Agents may be used in combinations however, people may experience greater side effects.[8][92] Methotrexate is the most important and useful DMARD and is usually the first treatment.[8][5][93] A combined approach with methotrexate and biologics improves ACR50, HAQ scores and RA remission rates.[94] Triple therapy consisting of methotrexate, sulfasalazine and hydroxychloroquine may also effectively control disease activity.[95] Adverse effects should be monitored regularly with toxicity including gastrointestinal, hematologic, pulmonary, and hepatic.[93] Side effects such as nausea, vomiting or abdominal pain can be reduced by taking folic acid.[96]',\n",
       "  'entities': [(1211, 1589, 'MEDICALCONDITION'),\n",
       "   (38, 44, 'MEDICINE'),\n",
       "   (356, 374, 'MEDICINE'),\n",
       "   (939, 950, 'MEDICINE'),\n",
       "   (1638, 1639, 'MEDICALCONDITION'),\n",
       "   (1212, 1588, 'MEDICALCONDITION'),\n",
       "   (262, 269, 'MEDICALCONDITION'),\n",
       "   (60, 78, 'MEDICINE'),\n",
       "   (718, 731, 'MEDICINE'),\n",
       "   (227, 248, 'MEDICINE'),\n",
       "   (678, 690, 'MEDICINE'),\n",
       "   (197, 206, 'MEDICINE'),\n",
       "   (1372, 1385, 'MEDICINE'),\n",
       "   (856, 867, 'MEDICINE'),\n",
       "   (159, 169, 'MEDICINE'),\n",
       "   (130, 142, 'MEDICINE'),\n",
       "   (262, 268, 'MEDICINE'),\n",
       "   (561, 574, 'MEDICINE'),\n",
       "   (108, 128, 'MEDICINE'),\n",
       "   (1670, 1680, 'MEDICALCONDITION'),\n",
       "   (80, 106, 'MEDICINE'),\n",
       "   (1610, 1616, 'MEDICALCONDITION'),\n",
       "   (453, 465, 'MEDICINE'),\n",
       "   (797, 817, 'MEDICALCONDITION'),\n",
       "   (595, 606, 'MEDICINE'),\n",
       "   (46, 58, 'MEDICINE'),\n",
       "   (823, 844, 'MEDICINE'),\n",
       "   (1124, 1136, 'MEDICINE'),\n",
       "   (1630, 1644, 'MEDICALCONDITION'),\n",
       "   (579, 590, 'MEDICINE'),\n",
       "   (1358, 1370, 'MEDICINE'),\n",
       "   (1618, 1626, 'MEDICINE'),\n",
       "   (504, 516, 'MEDICINE'),\n",
       "   (144, 154, 'MEDICINE'),\n",
       "   (1390, 1408, 'MEDICINE'),\n",
       "   (81, 106, 'MEDICALCONDITION'),\n",
       "   (211, 222, 'MEDICINE'),\n",
       "   (280, 291, 'MEDICINE')]},\n",
       " {'text': \"The goals of treatment are to reduce pain, decrease inflammation, and improve a person's overall functioning.[5] This may be helped by balancing rest and exercise, the use of splints and braces, or the use of assistive devices.[1][6][7] Pain medications, steroids, and NSAIDs are frequently used to help with symptoms.[1] Disease-modifying antirheumatic drugs (DMARDs), such as hydroxychloroquine and methotrexate, may be used to try to slow the progression of disease.[1] Biological DMARDs may be used when disease does not respond to other treatments.[8] However, they may have a greater rate of adverse effects.[9] Surgery to repair, replace, or fuse joints may help in certain situations.[1] Most alternative medicine treatments are not supported by evidence.[10][11]\",\n",
       "  'entities': [(401, 413, 'MEDICINE'),\n",
       "   (378, 396, 'MEDICINE'),\n",
       "   (473, 490, 'MEDICINE'),\n",
       "   (255, 263, 'MEDICINE')]},\n",
       " {'text': \"Hantaviruses, usually found in rodents and shrews, were discovered in two species of bats. The Mouyassué virus (MOUV) was isolated from banana pipistrelle bats captured near Mouyassué village in Cote d'Ivoire, West Africa. The Magboi virus was isolated from hairy slit-faced bats found near the Magboi River in Sierra Leone in 2011. They are single-stranded, negative sense, RNA viruses in the Bunyaviridae family.[29][30][31][32]\",\n",
       "  'entities': [(0, 12, 'PATHOGEN'),\n",
       "   (394, 406, 'PATHOGEN'),\n",
       "   (227, 239, 'PATHOGEN'),\n",
       "   (95, 110, 'PATHOGEN')]},\n",
       " {'text': 'Bats are the most common source of rabies in humans in North and South America, Western Europe, and Australia. In the United States, there were 19 cases of human rabies from 1997–2006, 17 of which were attributed to bats.[27] In North America, about half of human rabies instances are cryptic, meaning that the patient has no known bite history.[24] While it has been speculated that rabies virus could be transmitted through aerosols, studies of the rabies virus have concluded that this is only feasible in limited conditions. These conditions include a very large colony of bats in a hot and humid cave with poor ventilation. While two human deaths in 1956 and 1959 had been tentatively attributed to aerosolization of the rabies virus after entering a cave with bats, \"investigations of the 2 reported human cases revealed that both infections could be explained by means other than aerosol transmission\".[28] It is instead generally thought that most instances of cryptic rabies are the result of an unknown bat bite.[24] Bites from a bat can be so small that they are not visible without magnification equipment, for example. Outside of bites, rabies virus exposure can also occur if infected fluids come in contact with a mucous membrane or a break in the skin. Rabies virus has also been transmitted when an infected human unknowingly dies of rabies, and their organs are transplanted to others.[28]',\n",
       "  'entities': [(35, 41, 'MEDICALCONDITION'),\n",
       "   (162, 168, 'MEDICALCONDITION'),\n",
       "   (165, 167, 'MEDICALCONDITION'),\n",
       "   (384, 396, 'PATHOGEN'),\n",
       "   (1269, 1281, 'PATHOGEN'),\n",
       "   (1343, 1347, 'MEDICALCONDITION'),\n",
       "   (977, 983, 'MEDICALCONDITION'),\n",
       "   (1027, 1032, 'MEDICALCONDITION')]},\n",
       " {'text': 'In 2003, following the outbreak of severe acute respiratory syndrome (SARS) which had begun the prior year in Asia, and secondary cases elsewhere in the world, the World Health Organization (WHO) issued a press release stating that a novel coronavirus identified by a number of laboratories was the causative agent for SARS. The virus was officially named the SARS coronavirus (SARS-CoV). More than 8,000 people were infected, about ten percent of whom died.[25]',\n",
       "  'entities': [(35, 68, 'MEDICALCONDITION'),\n",
       "   (240, 252, 'MEDICALCONDITION'),\n",
       "   (70, 74, 'MEDICALCONDITION'),\n",
       "   (453, 457, 'MEDICALCONDITION'),\n",
       "   (240, 251, 'PATHOGEN'),\n",
       "   (360, 376, 'PATHOGEN'),\n",
       "   (319, 323, 'MEDICALCONDITION'),\n",
       "   (378, 386, 'PATHOGEN')]},\n",
       " {'text': 'Bacterial vaginosis is caused by bacteria that change the vaginal microbiota caused by an overgrowth of bacteria that crowd out the Lactobacilli species that maintain healthy vaginal microbial populations.\\nOther non-bacterial vaginal infections include: yeast infection (candidiasis), Trichomonas vaginalis (trichomoniasis).[8][9]\\nBacterial meningitis is a bacterial inflammation of the meninges, that is, the protective membranes covering the brain and spinal cord.\\nBacterial pneumonia is a bacterial infection of the lungs.\\nUrinary tract infection is predominantly caused by bacteria. Symptoms include the strong and frequent sensation or urge to urinate, pain during urination, and urine that is cloudy.[10] The main causal agent is Escherichia coli. Urine is typically sterile but contains a variety of salts, and waste products.[11] Bacteria can ascend into the bladder or kidney and causing cystitis and nephritis.\\nBacterial gastroenteritis is caused by enteric, pathogenic bacteria. These pathogenic species are usually distinct from the usually harmless bacteria of the normal gut flora. But a different strain of the same species may be pathogenic. The distinction is sometimes difficult as in the case of Escherichia.\\nBacterial skin infections include:\\nImpetigo is a highly contagious bacterial skin infection commonly seen in children.[12] It is caused by Staphylococcus aureus, and Streptococcus pyogenes.[13]\\nErysipelas is an acute streptococcus bacterial infection[14] of the deeper skin layers that spreads via with lymphatic system.\\nCellulitis is a diffuse inflammation[15] of connective tissue with severe inflammation of dermal and subcutaneous layers of the skin. Cellulitis can be caused by normal skin flora or by contagious contact, and usually occurs through open skin, cuts, blisters, cracks in the skin, insect bites, animal bites, burns, surgical wounds, intravenous drug injection, or sites of intravenous catheter insertion. In most cases it is the skin on the face or lower legs that is affected, though cellulitis can occur in other tissues.',\n",
       "  'entities': [(271, 282, 'MEDICALCONDITION'),\n",
       "   (0, 19, 'PATHOGEN'),\n",
       "   (1305, 1319, 'MEDICALCONDITION'),\n",
       "   (33, 42, 'PATHOGEN'),\n",
       "   (897, 905, 'MEDICALCONDITION'),\n",
       "   (1799, 1807, 'MEDICALCONDITION'),\n",
       "   (1549, 1559, 'MEDICALCONDITION'),\n",
       "   (658, 679, 'MEDICALCONDITION'),\n",
       "   (226, 244, 'MEDICALCONDITION'),\n",
       "   (1422, 1432, 'PATHOGEN'),\n",
       "   (1367, 1388, 'PATHOGEN'),\n",
       "   (921, 946, 'PATHOGEN'),\n",
       "   (1864, 1879, 'MEDICALCONDITION'),\n",
       "   (1394, 1416, 'PATHOGEN'),\n",
       "   (286, 300, 'MEDICALCONDITION'),\n",
       "   (357, 379, 'PATHOGEN'),\n",
       "   (467, 486, 'PATHOGEN'),\n",
       "   (254, 269, 'MEDICALCONDITION'),\n",
       "   (1623, 1635, 'MEDICALCONDITION'),\n",
       "   (910, 919, 'MEDICALCONDITION'),\n",
       "   (1809, 1827, 'MEDICALCONDITION'),\n",
       "   (1881, 1907, 'MEDICINE'),\n",
       "   (1573, 1585, 'MEDICALCONDITION'),\n",
       "   (1843, 1855, 'MEDICALCONDITION'),\n",
       "   (33, 41, 'PATHOGEN'),\n",
       "   (1921, 1951, 'MEDICINE'),\n",
       "   (1683, 1693, 'MEDICALCONDITION'),\n",
       "   (1623, 1636, 'MEDICALCONDITION'),\n",
       "   (132, 144, 'PATHOGEN'),\n",
       "   (331, 351, 'PATHOGEN'),\n",
       "   (1215, 1226, 'PATHOGEN'),\n",
       "   (285, 306, 'PATHOGEN'),\n",
       "   (736, 752, 'PATHOGEN')]},\n",
       " {'text': 'Other groups of intracellular bacterial pathogens include Salmonella, Neisseria, Brucella, Mycobacterium, Nocardia, Listeria, Francisella, Legionella, and Yersinia pestis. These can exist intracellularly, but can exist outside of host cells.',\n",
       "  'entities': [(116, 124, 'PATHOGEN'),\n",
       "   (155, 170, 'PATHOGEN'),\n",
       "   (126, 137, 'PATHOGEN'),\n",
       "   (70, 79, 'PATHOGEN'),\n",
       "   (139, 149, 'PATHOGEN'),\n",
       "   (106, 114, 'PATHOGEN'),\n",
       "   (91, 104, 'PATHOGEN'),\n",
       "   (81, 89, 'PATHOGEN'),\n",
       "   (58, 68, 'PATHOGEN')]},\n",
       " {'text': 'One of the bacterial diseases with the highest disease burden is tuberculosis, caused by Mycobacterium tuberculosis bacteria, which kills about 2 million people a year, mostly in sub-Saharan Africa. Pathogenic bacteria contribute to other globally important diseases, such as pneumonia, which can be caused by bacteria such as Streptococcus and Pseudomonas, and foodborne illnesses, which can be caused by bacteria such as Shigella, Campylobacter, and Salmonella. Pathogenic bacteria also cause infections such as tetanus, typhoid fever, diphtheria, syphilis, and leprosy. Pathogenic bacteria are also the cause of high infant mortality rates in developing countries.[3]',\n",
       "  'entities': [(327, 340, 'PATHOGEN'),\n",
       "   (514, 521, 'MEDICALCONDITION'),\n",
       "   (513, 522, 'MEDICALCONDITION'),\n",
       "   (433, 447, 'PATHOGEN'),\n",
       "   (452, 462, 'PATHOGEN'),\n",
       "   (276, 285, 'MEDICALCONDITION'),\n",
       "   (523, 536, 'MEDICALCONDITION'),\n",
       "   (564, 571, 'MEDICALCONDITION'),\n",
       "   (433, 446, 'PATHOGEN'),\n",
       "   (538, 548, 'MEDICALCONDITION'),\n",
       "   (345, 356, 'PATHOGEN'),\n",
       "   (65, 77, 'MEDICALCONDITION'),\n",
       "   (550, 558, 'MEDICALCONDITION'),\n",
       "   (524, 536, 'MEDICALCONDITION'),\n",
       "   (89, 115, 'PATHOGEN'),\n",
       "   (423, 431, 'PATHOGEN')]},\n",
       " {'text': \"Although the vast majority of bacteria are harmless or beneficial to one's body, a few pathogenic bacteria can cause infectious diseases. The most common bacterial disease is tuberculosis, caused by the bacterium Mycobacterium tuberculosis, which affects about 2 million people mostly in sub-Saharan Africa. Pathogenic bacteria contribute to other globally important diseases, such as pneumonia, which can be caused by bacteria such as Streptococcus and Pseudomonas, and foodborne illnesses, which can be caused by bacteria such as Shigella, Campylobacter, and Salmonella. Pathogenic bacteria also cause infections such as tetanus, typhoid fever, diphtheria, syphilis, and Hansen's disease. They typically range between 1 and 5 micrometers in length.\",\n",
       "  'entities': [(659, 667, 'MEDICALCONDITION'),\n",
       "   (436, 449, 'PATHOGEN'),\n",
       "   (673, 689, 'MEDICALCONDITION'),\n",
       "   (30, 38, 'PATHOGEN'),\n",
       "   (454, 465, 'PATHOGEN'),\n",
       "   (647, 657, 'MEDICALCONDITION'),\n",
       "   (87, 106, 'PATHOGEN'),\n",
       "   (542, 554, 'MEDICALCONDITION'),\n",
       "   (532, 540, 'PATHOGEN'),\n",
       "   (30, 39, 'PATHOGEN'),\n",
       "   (561, 571, 'PATHOGEN'),\n",
       "   (623, 630, 'MEDICALCONDITION'),\n",
       "   (471, 490, 'MEDICALCONDITION'),\n",
       "   (632, 645, 'MEDICALCONDITION'),\n",
       "   (542, 555, 'PATHOGEN'),\n",
       "   (648, 667, 'MEDICALCONDITION')]},\n",
       " {'text': 'Much like viral pathogens, infection by certain bacterial pathogens can be prevented via vaccines.[30] Vaccines against bacterial pathogens include the anthrax vaccine and the pneumococcal vaccine. Many other bacterial pathogens lack vaccines as a preventive measure, but infection by these bacteria can often be treated or prevented with antibiotics. Common antibiotics include amoxicillin, ciprofloxacin, and doxycycline. Each antibiotic has different bacteria that it is effective against and has different mechanisms to kill that bacteria. For example, doxycycline inhibits the synthesis of new proteins in both gram-negative and gram-positive bacteria which leads to the death of the affected bacteria.[35]',\n",
       "  'entities': [(379, 390, 'MEDICINE'),\n",
       "   (152, 167, 'MEDICINE'),\n",
       "   (411, 422, 'MEDICINE'),\n",
       "   (392, 405, 'MEDICINE'),\n",
       "   (176, 196, 'MEDICINE')]},\n",
       " {'text': 'The term pathogen came into use in the 1880s.[1][2] Typically, the term is used to describe an infectious microorganism or agent, such as a virus, bacterium, protozoan, prion, viroid, or fungus.[',\n",
       "  'entities': [(158, 167, 'PATHOGEN'),\n",
       "   (95, 119, 'PATHOGEN'),\n",
       "   (187, 193, 'PATHOGEN'),\n",
       "   (147, 156, 'PATHOGEN'),\n",
       "   (140, 145, 'PATHOGEN')]},\n",
       " {'text': \"Some antidepressants are used as a treatment for social anxiety disorder, but their efficacy is not entirely convincing, as only a small proportion of antidepressants showed some efficacy for this condition. Paroxetine was the first drug to be FDA-approved for this disorder. Its efficacy is considered beneficial, although not everyone responds favorably to the drug. Sertraline and fluvoxamine extended release were later approved for it as well, while escitalopram is used off-label with acceptable efficacy. However, there isn't enough evidence to support citalopram for treating social phobia, and fluoxetine was no better than placebo in clinical trials. SSRIs are used as a first-line treatment for social anxiety, but they don't work for everyone. One alternative would be venlafaxine, which is a SNRI. It showed benefits for social phobia in five clinical trials against placebo, while the other SNRIs are not considered particularly useful for this disorder as many of them didn't undergo testing for it. As of now, it is unclear if duloxetine and desvenlafaxine can provide benefits for social anxiety sufferers. However, another class of antidepressants called MAOIs are considered effective for social anxiety, but they come with many unwanted side effects and are rarely used. Phenelzine was shown to be a good treatment option, but its use is limited by dietary restrictions. Moclobemide is a RIMA and showed mixed results but still got approval in some European countries for social anxiety disorder. TCA antidepressants, such as clomipramine and imipramine, are not considered effective for this anxiety disorder in particular. This leaves out SSRIs such as paroxetine, sertraline and fluvoxamine CR as acceptable and tolerated treatment options for this disorder.[19][20]\",\n",
       "  'entities': [(384, 395, 'MEDICINE'),\n",
       "   (1098, 1112, 'MEDICALCONDITION'),\n",
       "   (1687, 1697, 'MEDICINE'),\n",
       "   (49, 72, 'MEDICALCONDITION'),\n",
       "   (1173, 1178, 'MEDICINE'),\n",
       "   (1702, 1713, 'MEDICINE'),\n",
       "   (781, 792, 'MEDICINE'),\n",
       "   (1563, 1573, 'MEDICINE'),\n",
       "   (48, 72, 'MEDICALCONDITION'),\n",
       "   (603, 613, 'MEDICINE'),\n",
       "   (1675, 1685, 'MEDICALCONDITION'),\n",
       "   (1613, 1629, 'MEDICALCONDITION'),\n",
       "   (369, 379, 'MEDICINE'),\n",
       "   (1291, 1301, 'MEDICINE'),\n",
       "   (1546, 1558, 'MEDICINE'),\n",
       "   (1394, 1402, 'MEDICALCONDITION'),\n",
       "   (835, 848, 'MEDICALCONDITION'),\n",
       "   (1106, 1112, 'MEDICALCONDITION'),\n",
       "   (1391, 1392, 'MEDICALCONDITION'),\n",
       "   (455, 467, 'MEDICINE'),\n",
       "   (1391, 1402, 'MEDICINE'),\n",
       "   (584, 597, 'MEDICALCONDITION')]},\n",
       " {'text': \"However, existing data suggest that patients taking bedaquiline in addition to standard TB therapy are five times more likely to die than those without the new drug,[184] which has resulted in medical journal articles raising health policy questions about why the FDA approved the drug and whether financial ties to the company making bedaquiline influenced physicians' support for its use.[183][185]\",\n",
       "  'entities': [(88, 98, 'MEDICINE'),\n",
       "   (335, 346, 'MEDICINE'),\n",
       "   (52, 63, 'MEDICINE')]},\n",
       " {'text': 'Latent TB is treated with either isoniazid or rifampin alone, or a combination of isoniazid with either rifampicin or rifapentine.[90][91][92]\\n\\nThe treatment takes three to nine months depending on the medications used.[51][90][93][92] People with latent infections are treated to prevent them from progressing to active TB disease later in life.[94]',\n",
       "  'entities': [(118, 129, 'MEDICINE'),\n",
       "   (33, 42, 'MEDICINE'),\n",
       "   (46, 54, 'MEDICINE'),\n",
       "   (82, 91, 'MEDICINE'),\n",
       "   (33, 43, 'MEDICALCONDITION'),\n",
       "   (104, 114, 'MEDICINE')]},\n",
       " {'text': 'If a tuberculosis infection does become active, it most commonly involves the lungs (in about 90% of cases).[14][17] Symptoms may include chest pain and a prolonged cough producing sputum. About 25% of people may not have any symptoms (i.e. they remain \"asymptomatic\").[14] Occasionally, people may cough up blood in small amounts, and in very rare cases, the infection may erode into the pulmonary artery or a Rasmussen\\'s aneurysm, resulting in massive bleeding.[9][18] Tuberculosis may become a chronic illness and cause extensive scarring in the upper lobes of the lungs. The upper lung lobes are more frequently affected by tuberculosis than the lower ones.[9] The reason for this difference is not clear.[13] It may be due to either better air flow,[13] or poor lymph drainage within the upper lungs.[',\n",
       "  'entities': [(523, 541, 'MEDICALCONDITION'),\n",
       "   (138, 148, 'MEDICALCONDITION'),\n",
       "   (155, 170, 'MEDICALCONDITION'),\n",
       "   (299, 313, 'MEDICALCONDITION'),\n",
       "   (446, 462, 'MEDICALCONDITION')]},\n",
       " {'text': 'Tuberculosis may infect any part of the body, but most commonly occurs in the lungs (known as pulmonary tuberculosis).[9] Extrapulmonary TB occurs when tuberculosis develops outside of the lungs, although extrapulmonary TB may coexist with pulmonary TB.[9]\\n\\nGeneral signs and symptoms include fever, chills, night sweats, loss of appetite, weight loss, and fatigue.[9] Significant nail clubbing may also occur.[16]',\n",
       "  'entities': []},\n",
       " {'text': 'A number of factors make people more susceptible to TB infections. The most important risk factor globally is HIV; 13% of all people with TB are infected by the virus.[39] This is a particular problem in sub-Saharan Africa, where rates of HIV are high.[40][41] Of people without HIV who are infected with tuberculosis, about 5–10% develop active disease during their lifetimes;[16] in contrast, 30% of those coinfected with HIV develop the active disease.[16]',\n",
       "  'entities': [(279, 283, 'PATHOGEN'), (279, 282, 'PATHOGEN')]},\n",
       " {'text': 'In 15–20% of active cases, the infection spreads outside the lungs, causing other kinds of TB.[19] These are collectively denoted as \"extrapulmonary tuberculosis\".[20] Extrapulmonary TB occurs more commonly in people with a weakened immune system and young children. In those with HIV, this occurs in more than 50% of cases.[20] Notable extrapulmonary infection sites include the pleura (in tuberculous pleurisy), the central nervous system (in tuberculous meningitis), the lymphatic system (in scrofula of the neck), the genitourinary system (in urogenital tuberculosis), and the bones and joints (in Pott disease of the spine), among others. A potentially more serious, widespread form of TB is called \"disseminated tuberculosis\", it is also known as miliary tuberculosis.[9] Miliary TB currently makes up about 10% of extrapulmonary cases.[21]',\n",
       "  'entities': [(134, 161, 'MEDICALCONDITION'),\n",
       "   (753, 773, 'MEDICALCONDITION'),\n",
       "   (337, 361, 'MEDICALCONDITION'),\n",
       "   (445, 467, 'MEDICALCONDITION')]},\n",
       " {'text': 'Although viruses cause disruption of healthy homeostasis, resulting in disease, they may exist relatively harmlessly within an organism. An example would include the ability of the herpes simplex virus, which causes cold sores, to remain in a dormant state within the human body. This is called latency[153] and is a characteristic of the herpes viruses, including Epstein–Barr virus, which causes glandular fever, and varicella zoster virus, which causes chickenpox and shingles. Most people have been infected with at least one of these types of herpes virus.[154] These latent viruses might sometimes be beneficial, as the presence of the virus can increase immunity against bacterial pathogens, such as Yersinia pestis.[155]',\n",
       "  'entities': [(456, 466, 'MEDICALCONDITION'),\n",
       "   (471, 479, 'MEDICALCONDITION'),\n",
       "   (419, 441, 'PATHOGEN'),\n",
       "   (365, 383, 'PATHOGEN'),\n",
       "   (707, 722, 'PATHOGEN'),\n",
       "   (181, 201, 'PATHOGEN'),\n",
       "   (456, 467, 'MEDICALCONDITION')]},\n",
       " {'text': 'Examples of common human diseases caused by viruses include the common cold, influenza, chickenpox, and cold sores. Many serious diseases such as rabies, Ebola virus disease, AIDS (HIV), avian influenza, and SARS are caused by viruses. The relative ability of viruses to cause disease is described in terms of virulence. Other diseases are under investigation to discover if they have a virus as the causative agent, such as the possible connection between human herpesvirus 6 (HHV6) and neurological diseases such as multiple sclerosis and chronic fatigue syndrome.[151] There is controversy over whether the bornavirus, previously thought to cause neurological diseases in horses, could be responsible for psychiatric illnesses in humans.[152]',\n",
       "  'entities': [(518, 536, 'MEDICALCONDITION'),\n",
       "   (154, 165, 'PATHOGEN'),\n",
       "   (708, 729, 'MEDICALCONDITION'),\n",
       "   (463, 476, 'PATHOGEN'),\n",
       "   (77, 86, 'MEDICALCONDITION'),\n",
       "   (88, 98, 'MEDICALCONDITION'),\n",
       "   (187, 202, 'MEDICALCONDITION'),\n",
       "   (610, 620, 'PATHOGEN')]},\n",
       " {'text': \"All medical applications known so far involve not pure adamantane, but its derivatives. The first adamantane derivative used as a drug was amantadine – first (1967) as an antiviral drug against various strains of flu[50] and then to treat Parkinson's disease.[51][52] Other drugs among adamantane derivatives include adapalene, adapromine, bromantane, carmantadine, chlodantane, dopamantine, memantine, rimantadine, saxagliptin, tromantadine, and vildagliptin. Polymers of adamantane have been patented as antiviral agents against HIV.[53]\",\n",
       "  'entities': [(239, 258, 'MEDICALCONDITION'),\n",
       "   (55, 65, 'MEDICINE'),\n",
       "   (531, 534, 'PATHOGEN'),\n",
       "   (416, 427, 'MEDICINE'),\n",
       "   (379, 390, 'MEDICINE'),\n",
       "   (352, 364, 'MEDICINE'),\n",
       "   (139, 149, 'MEDICINE')]},\n",
       " {'text': 'Buprenorphine has been shown experimentally (1982–1995) to be effective against severe, refractory depression',\n",
       "  'entities': [(0, 13, 'MEDICINE'),\n",
       "   (88, 109, 'MEDICALCONDITION'),\n",
       "   (0, 14, 'MEDICALCONDITION')]},\n",
       " {'text': 'Gabapentin, approved for treatment of seizures and postherpetic neuralgia in adults, has side-effects which are useful in treating bipolar disorder1, essential tremor, hot flashes, migraine prophylaxis, neuropathic pain syndromes, phantom limb syndrome, and restless leg syndrome.[11]',\n",
       "  'entities': [(203, 229, 'MEDICALCONDITION'),\n",
       "   (258, 279, 'MEDICALCONDITION'),\n",
       "   (181, 201, 'MEDICALCONDITION'),\n",
       "   (51, 73, 'MEDICALCONDITION'),\n",
       "   (0, 10, 'MEDICINE'),\n",
       "   (38, 46, 'MEDICALCONDITION')]},\n",
       " {'text': 'Bupropion (Wellbutrin), an anti-depressant, is also used as a smoking cessation aid; this indication was later approved, and the name of the smoking cessation product is Zyban. In Ontario, Canada, smoking cessation drugs are not covered by provincial drug plans; elsewhere, Zyban is priced higher than Wellbutrin, despite being the same drug. Therefore, some physicians prescribe Wellbutrin for both indications.[',\n",
       "  'entities': [(274, 279, 'MEDICINE'),\n",
       "   (11, 21, 'MEDICINE'),\n",
       "   (302, 312, 'MEDICINE'),\n",
       "   (301, 312, 'MEDICALCONDITION'),\n",
       "   (380, 390, 'MEDICINE'),\n",
       "   (170, 175, 'MEDICINE'),\n",
       "   (0, 9, 'MEDICINE')]},\n",
       " {'text': 'Carbamazepine is an approved treatment for bipolar disorder and epileptic seizures, but it has side effects useful in treating attention-deficit hyperactivity disorder (ADHD), schizophrenia, phantom limb syndrome, paroxysmal extreme pain disorder, neuromyotonia, and post-traumatic stress disorder.[8]',\n",
       "  'entities': [(267, 288, 'MEDICALCONDITION'),\n",
       "   (248, 261, 'MEDICALCONDITION'),\n",
       "   (0, 13, 'MEDICINE'),\n",
       "   (43, 59, 'MEDICALCONDITION'),\n",
       "   (145, 167, 'MEDICALCONDITION'),\n",
       "   (0, 14, 'MEDICALCONDITION'),\n",
       "   (176, 189, 'MEDICALCONDITION'),\n",
       "   (64, 82, 'MEDICALCONDITION'),\n",
       "   (191, 212, 'MEDICALCONDITION')]},\n",
       " {'text': 'The antiviral drugs amantadine and rimantadine inhibit a viral ion channel (M2 protein), thus inhibiting replication of the influenza A virus.[86] These drugs are sometimes effective against influenza A if given early in the infection but are ineffective against influenza B viruses, which lack the M2 drug target.[160] Measured resistance to amantadine and rimantadine in American isolates of H3N2 has increased to 91% in 2005.[161] This high level of resistance may be due to the easy availability of amantadines as part of over-the-counter cold remedies in countries such as China and Russia,[162] and their use to prevent outbreaks of influenza in farmed poultry.[163][164] The CDC recommended against using M2 inhibitors during the 2005–06 influenza season due to high levels of drug resistance.[165]',\n",
       "  'entities': [(639, 648, 'MEDICALCONDITION'),\n",
       "   (35, 46, 'MEDICINE'),\n",
       "   (712, 725, 'MEDICINE'),\n",
       "   (20, 30, 'MEDICINE')]},\n",
       " {'text': 'The two classes of antiviral drugs used against influenza are neuraminidase inhibitors (oseltamivir, zanamivir, laninamivir and peramivir) and M2 protein inhibitors (adamantane derivatives)',\n",
       "  'entities': [(128, 137, 'MEDICINE'),\n",
       "   (48, 58, 'MEDICALCONDITION'),\n",
       "   (101, 110, 'MEDICINE'),\n",
       "   (112, 123, 'MEDICINE'),\n",
       "   (112, 124, 'MEDICALCONDITION'),\n",
       "   (48, 57, 'MEDICALCONDITION'),\n",
       "   (88, 99, 'MEDICINE')]},\n",
       " {'text': 'Influenza, commonly known as \"the flu\", is an infectious disease caused by an influenza virus.[1] Symptoms can be mild to severe.[5] The most common symptoms include: high fever, runny nose, sore throat, muscle and joint pain, headache, coughing, and feeling tired.[1] These symptoms typically begin two days after exposure to the virus and most last less than a week.[1] The cough, however, may last for more than two weeks.[1] In children, there may be diarrhea and vomiting, but these are not common in adults.[6] Diarrhea and vomiting occur more commonly in gastroenteritis, which is an unrelated disease and sometimes inaccurately referred to as \"stomach flu\" or the \"24-hour flu\".[6] Complications of influenza may include viral pneumonia, secondary bacterial pneumonia, sinus infections, and worsening of previous health problems such as asthma or heart failure.[2][5]',\n",
       "  'entities': [(191, 202, 'MEDICALCONDITION'),\n",
       "   (0, 9, 'MEDICALCONDITION'),\n",
       "   (845, 852, 'MEDICALCONDITION'),\n",
       "   (756, 775, 'PATHOGEN'),\n",
       "   (468, 476, 'MEDICALCONDITION'),\n",
       "   (227, 235, 'MEDICALCONDITION'),\n",
       "   (845, 851, 'MEDICALCONDITION'),\n",
       "   (237, 245, 'MEDICALCONDITION'),\n",
       "   (777, 793, 'MEDICALCONDITION'),\n",
       "   (855, 868, 'MEDICALCONDITION'),\n",
       "   (215, 225, 'MEDICALCONDITION'),\n",
       "   (652, 663, 'MEDICALCONDITION'),\n",
       "   (455, 464, 'MEDICALCONDITION'),\n",
       "   (251, 264, 'MEDICALCONDITION'),\n",
       "   (455, 463, 'MEDICALCONDITION'),\n",
       "   (78, 93, 'PATHOGEN')]}]"
      ]
     },
     "execution_count": 11,
     "metadata": {},
     "output_type": "execute_result"
    }
   ],
   "source": [
    "training_data"
   ]
  },
  {
   "cell_type": "code",
   "execution_count": 12,
   "metadata": {
    "id": "M1oU8aVuM5Yj"
   },
   "outputs": [],
   "source": [
    "nlp = spacy.blank(\"en\")   # load a new spacy model\n",
    "doc_bin = DocBin()"
   ]
  },
  {
   "cell_type": "code",
   "execution_count": 15,
   "metadata": {
    "colab": {
     "base_uri": "https://localhost:8080/"
    },
    "executionInfo": {
     "elapsed": 925,
     "status": "ok",
     "timestamp": 1717319440371,
     "user": {
      "displayName": "Edmund Lee",
      "userId": "17442049349520482269"
     },
     "user_tz": -480
    },
    "id": "74emDNoRKEyB",
    "outputId": "eee08325-a34e-446a-9d44-edf44be1f84e"
   },
   "outputs": [
    {
     "name": "stderr",
     "output_type": "stream",
     "text": [
      "100%|█████████████████████████████████████████████████████████████████████████████████████| 31/31 [00:00<00:00, 1154.00it/s]"
     ]
    },
    {
     "name": "stdout",
     "output_type": "stream",
     "text": [
      "Skipping entity\n",
      "Skipping entity\n",
      "Skipping entity\n",
      "Skipping entity\n",
      "Skipping entity\n",
      "Skipping entity\n",
      "Skipping entity\n",
      "Skipping entity\n",
      "Skipping entity\n",
      "Skipping entity\n",
      "Skipping entity\n",
      "Skipping entity\n",
      "Skipping entity\n",
      "Skipping entity\n",
      "Skipping entity\n",
      "Skipping entity\n"
     ]
    },
    {
     "name": "stderr",
     "output_type": "stream",
     "text": [
      "\n"
     ]
    }
   ],
   "source": [
    "for training_example in tqdm(training_data):\n",
    "    text = training_example['text']\n",
    "    labels = training_example['entities']\n",
    "    doc = nlp.make_doc(text)\n",
    "    ents = []\n",
    "    for start, end, label in labels:\n",
    "        span = doc.char_span(start, end, label=label, alignment_mode=\"contract\")\n",
    "        if span is None:\n",
    "            print(\"Skipping entity\")\n",
    "        else:\n",
    "            ents.append(span)\n",
    "    filtered_ents = filter_spans(ents)\n",
    "    doc.ents = filtered_ents\n",
    "    doc_bin.add(doc)\n",
    "\n",
    "doc_bin.to_disk('train.spacy')"
   ]
  },
  {
   "cell_type": "markdown",
   "metadata": {
    "id": "K8B1UCJqOQQi"
   },
   "source": [
    "# Initializing the training config file\n",
    "https://spacy.io/usage/training"
   ]
  },
  {
   "cell_type": "code",
   "execution_count": 17,
   "metadata": {
    "colab": {
     "base_uri": "https://localhost:8080/"
    },
    "executionInfo": {
     "elapsed": 5375,
     "status": "ok",
     "timestamp": 1717319914327,
     "user": {
      "displayName": "Edmund Lee",
      "userId": "17442049349520482269"
     },
     "user_tz": -480
    },
    "id": "RyL3pmW3Mkpt",
    "outputId": "d919c891-daa5-438d-8d83-9e8f6696fba3"
   },
   "outputs": [
    {
     "name": "stdout",
     "output_type": "stream",
     "text": [
      "\u001b[38;5;2m✔ Auto-filled config with all values\u001b[0m\n",
      "\u001b[38;5;2m✔ Saved config\u001b[0m\n",
      "config.cfg\n",
      "You can now add your data and train your pipeline:\n",
      "python -m spacy train config.cfg --paths.train ./train.spacy --paths.dev ./dev.spacy\n"
     ]
    }
   ],
   "source": [
    "!python -m spacy init fill-config base_config.cfg config.cfg"
   ]
  },
  {
   "cell_type": "markdown",
   "metadata": {
    "id": "ZsDMrgo00OsA"
   },
   "source": [
    "# Training the NER model\n"
   ]
  },
  {
   "cell_type": "code",
   "execution_count": 18,
   "metadata": {
    "colab": {
     "base_uri": "https://localhost:8080/"
    },
    "executionInfo": {
     "elapsed": 259075,
     "status": "ok",
     "timestamp": 1717330496741,
     "user": {
      "displayName": "Edmund Lee",
      "userId": "17442049349520482269"
     },
     "user_tz": -480
    },
    "id": "NWa63qaW0JRa",
    "outputId": "85eef774-4121-46c9-a9d4-00e4bd0e9db6"
   },
   "outputs": [
    {
     "name": "stdout",
     "output_type": "stream",
     "text": [
      "\u001b[38;5;4mℹ Saving to output directory: .\u001b[0m\n",
      "\u001b[38;5;4mℹ Using CPU\u001b[0m\n",
      "\u001b[1m\n",
      "=========================== Initializing pipeline ===========================\u001b[0m\n",
      "\u001b[38;5;2m✔ Initialized pipeline\u001b[0m\n",
      "\u001b[1m\n",
      "============================= Training pipeline =============================\u001b[0m\n",
      "\u001b[38;5;4mℹ Pipeline: ['tok2vec', 'ner']\u001b[0m\n",
      "\u001b[38;5;4mℹ Initial learn rate: 0.001\u001b[0m\n",
      "E    #       LOSS TOK2VEC  LOSS NER  ENTS_F  ENTS_P  ENTS_R  SCORE \n",
      "---  ------  ------------  --------  ------  ------  ------  ------\n",
      "  0       0          0.00     59.36    0.00    0.00    0.00    0.00\n",
      "  3     200        325.87   3270.19   70.42   72.02   68.90    0.70\n",
      "  7     400         82.63   1001.90   91.09   89.69   92.52    0.91\n",
      "\u001b[38;5;2m✔ Saved pipeline to output directory\u001b[0m\n",
      "model-last\n"
     ]
    }
   ],
   "source": [
    "!python -m spacy train config.cfg --output ./ --paths.train train.spacy --paths.dev train.spacy"
   ]
  },
  {
   "cell_type": "markdown",
   "metadata": {
    "id": "JvsbhjHm3MNB"
   },
   "source": [
    "# Load the trained NER model"
   ]
  },
  {
   "cell_type": "code",
   "execution_count": 19,
   "metadata": {
    "id": "35K12w3A3XGE"
   },
   "outputs": [],
   "source": [
    "nlp_ner = spacy.load(\"model-best\")"
   ]
  },
  {
   "cell_type": "code",
   "execution_count": 20,
   "metadata": {
    "colab": {
     "base_uri": "https://localhost:8080/",
     "height": 157
    },
    "executionInfo": {
     "elapsed": 415,
     "status": "ok",
     "timestamp": 1717330556645,
     "user": {
      "displayName": "Edmund Lee",
      "userId": "17442049349520482269"
     },
     "user_tz": -480
    },
    "id": "gT4YLv36ztSj",
    "outputId": "d700827d-e8c9-4185-bd35-5c2cb1ee138f"
   },
   "outputs": [
    {
     "data": {
      "text/html": [
       "<span class=\"tex2jax_ignore\"><div class=\"entities\" style=\"line-height: 2.5; direction: ltr\">While \n",
       "<mark class=\"entity\" style=\"background: #7DF6D9; padding: 0.45em 0.6em; margin: 0 0.25em; line-height: 1; border-radius: 0.35em;\">\n",
       "    bismuth compounds\n",
       "    <span style=\"font-size: 0.8em; font-weight: bold; line-height: 1; border-radius: 0.35em; vertical-align: middle; margin-left: 0.5rem\">MEDICINE</span>\n",
       "</mark>\n",
       " (\n",
       "<mark class=\"entity\" style=\"background: #7DF6D9; padding: 0.45em 0.6em; margin: 0 0.25em; line-height: 1; border-radius: 0.35em;\">\n",
       "    Pepto-Bismol\n",
       "    <span style=\"font-size: 0.8em; font-weight: bold; line-height: 1; border-radius: 0.35em; vertical-align: middle; margin-left: 0.5rem\">MEDICINE</span>\n",
       "</mark>\n",
       ") decreased the number of bowel movements in those with travelers' \n",
       "<mark class=\"entity\" style=\"background: #a6e22d; padding: 0.45em 0.6em; margin: 0 0.25em; line-height: 1; border-radius: 0.35em;\">\n",
       "    diarrhea\n",
       "    <span style=\"font-size: 0.8em; font-weight: bold; line-height: 1; border-radius: 0.35em; vertical-align: middle; margin-left: 0.5rem\">MEDICALCONDITION</span>\n",
       "</mark>\n",
       ", they do not decrease the length of illness.[91] Anti-motility agents like \n",
       "<mark class=\"entity\" style=\"background: #7DF6D9; padding: 0.45em 0.6em; margin: 0 0.25em; line-height: 1; border-radius: 0.35em;\">\n",
       "    loperamide\n",
       "    <span style=\"font-size: 0.8em; font-weight: bold; line-height: 1; border-radius: 0.35em; vertical-align: middle; margin-left: 0.5rem\">MEDICINE</span>\n",
       "</mark>\n",
       " are also effective at reducing the number of stools but not the duration of disease.[8] These agents should be used only if bloody diarrhea is not present.</div></span>"
      ],
      "text/plain": [
       "<IPython.core.display.HTML object>"
      ]
     },
     "metadata": {},
     "output_type": "display_data"
    }
   ],
   "source": [
    "doc = nlp_ner(\"While bismuth compounds (Pepto-Bismol) decreased the number of bowel movements in those with travelers' diarrhea, they do not decrease the length of illness.[91] Anti-motility agents like loperamide are also effective at reducing the number of stools but not the duration of disease.[8] These agents should be used only if bloody diarrhea is not present.\")\n",
    "\n",
    "colors = {\"PATHOGEN\": \"#F67DE3\", \"MEDICINE\": \"#7DF6D9\", \"MEDICALCONDITION\": \"#a6e22d\"}\n",
    "options = {\"colors\": colors}\n",
    "\n",
    "spacy.displacy.render(doc, style=\"ent\", options=options, jupyter=True)"
   ]
  },
  {
   "cell_type": "code",
   "execution_count": 21,
   "metadata": {
    "colab": {
     "base_uri": "https://localhost:8080/"
    },
    "executionInfo": {
     "elapsed": 421,
     "status": "ok",
     "timestamp": 1717330686891,
     "user": {
      "displayName": "Edmund Lee",
      "userId": "17442049349520482269"
     },
     "user_tz": -480
    },
    "id": "Dt86syqS4Nkm",
    "outputId": "bf9f2ee0-307f-4cad-83f0-5a466c3ef11a"
   },
   "outputs": [
    {
     "name": "stdout",
     "output_type": "stream",
     "text": [
      "Entity: bismuth compounds, \tLabel: MEDICINE\n",
      "Entity: Pepto-Bismol, \tLabel: MEDICINE\n",
      "Entity: diarrhea, \tLabel: MEDICALCONDITION\n",
      "Entity: loperamide, \tLabel: MEDICINE\n"
     ]
    }
   ],
   "source": [
    "for ent in doc.ents:\n",
    "    label = ent.label_\n",
    "    print(f\"Entity: {ent.text}, \\tLabel: {label}\")"
   ]
  },
  {
   "cell_type": "code",
   "execution_count": null,
   "metadata": {
    "id": "ouDd6me_4Pzo"
   },
   "outputs": [],
   "source": []
  }
 ],
 "metadata": {
  "colab": {
   "provenance": []
  },
  "kernelspec": {
   "display_name": "Python 3 (ipykernel)",
   "language": "python",
   "name": "python3"
  },
  "language_info": {
   "codemirror_mode": {
    "name": "ipython",
    "version": 3
   },
   "file_extension": ".py",
   "mimetype": "text/x-python",
   "name": "python",
   "nbconvert_exporter": "python",
   "pygments_lexer": "ipython3",
   "version": "3.12.3"
  }
 },
 "nbformat": 4,
 "nbformat_minor": 4
}
